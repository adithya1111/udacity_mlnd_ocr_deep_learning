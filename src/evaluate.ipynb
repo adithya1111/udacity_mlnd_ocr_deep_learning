{
 "cells": [
  {
   "cell_type": "code",
   "execution_count": 3,
   "metadata": {},
   "outputs": [],
   "source": [
    "import json\n",
    "from model import *\n",
    "from custom_recurrents import AttentionDecoder\n",
    "import matplotlib.pyplot as plt\n",
    "%matplotlib inline\n",
    "plt.rcParams[\"figure.figsize\"]=10,10\n",
    "from utils import *\n",
    "from predict import *\n",
    "from keras.models import load_model\n",
    "from custom_recurrents import AttentionDecoder"
   ]
  },
  {
   "cell_type": "code",
   "execution_count": 6,
   "metadata": {},
   "outputs": [
    {
     "data": {
      "image/png": "[encoded data removed]",
      "text/plain": [
       "<Figure size 720x720 with 1 Axes>"
      ]
     },
     "metadata": {},
     "output_type": "display_data"
    }
   ],
   "source": [
    "# summarize history for loss\n",
    "plot_loss('/home/CONCURASP/kumara/udacity_ocr_refactor/model/sample/history.json')"
   ]
  },
  {
   "cell_type": "code",
   "execution_count": null,
   "metadata": {},
   "outputs": [],
   "source": []
  },
  {
   "cell_type": "code",
   "execution_count": null,
   "metadata": {},
   "outputs": [],
   "source": [
    "# from keras.models import load_model\n",
    "# from predict import get_features,get_text\n",
    "# from custom_recurrents import AttentionDecodert\n",
    "# model = load_model('/home/CONCURASP/kumara/udacity_ocr_refactor/model/sample/ocr_extraction_model.h5',custom_objects={'AttentionDecoder':AttentionDecoder})\n",
    "# base_path='/home/CONCURASP/kumara/udacity_ocr_refactor/data/ramdisk/max/90kDICT32px/'\n",
    "# path = '1/1/100_Classmates_13991.jpg' \n",
    "# final_path = base_path+path\n",
    "# features = get_features(final_path)\n",
    "# pred = model.predict(features)\n"
   ]
  },
  {
   "cell_type": "code",
   "execution_count": 2,
   "metadata": {},
   "outputs": [
    {
     "name": "stdout",
     "output_type": "stream",
     "text": [
      "inputs shape: (?, 40, 512)\n",
      "Classmates\n"
     ]
    },
    {
     "data": {
      "text/plain": [
       "'Classmates'"
      ]
     },
     "execution_count": 2,
     "metadata": {},
     "output_type": "execute_result"
    }
   ],
   "source": [
    "from predict import *\n",
    "base_path='/home/CONCURASP/kumara/udacity_ocr_refactor/data/ramdisk/max/90kDICT32px/'\n",
    "path = '1/1/100_Classmates_13991.jpg' \n",
    "final_path = base_path+path\n",
    "vocab_file = '/home/CONCURASP/kumara/udacity_ocr_refactor/src/rcptAlphabet.json'\n",
    "model_file = '/home/CONCURASP/kumara/udacity_ocr_refactor/model/iteration_1/ocr_extraction_model.h5'\n",
    "#img = '/home/CONCURASP/kumara/udacity_ocr_refactor/src/5AA93EB6ABB138AE87010F44D68561DF.jpg'\n",
    "call_predict(vocab_file,model_file,final_path)"
   ]
  },
  {
   "cell_type": "code",
   "execution_count": 16,
   "metadata": {},
   "outputs": [],
   "source": [
    "import matplotlib.pyplot as plt\n",
    "import json\n",
    "import cv2\n",
    "import numpy as np\n",
    "from PIL import Image\n",
    "from cv2 import boundingRect, countNonZero, cvtColor, drawContours, findContours, getStructuringElement, imread, \\\n",
    "    morphologyEx, pyrDown, rectangle, threshold\n",
    "def get_text_boxes(large):\n",
    "    \"\"\"\n",
    "    Utility function to get image text boxes\n",
    "    -----\n",
    "    - img: np-array image of shape (H, W, C)\n",
    "    Returns\n",
    "    -------\n",
    "    - output: {(x,y,rect_height, rect_width): numpy_array image boxes}\n",
    "    \"\"\"\n",
    "\n",
    "    # Downsample (in half) if the image is large\n",
    "    \n",
    "    if float(large.size / 3) > 1000 * 1000:\n",
    "        shrink = True\n",
    "    else:\n",
    "        shrink = False\n",
    "    print(\"shrink\", shrink)\n",
    "    if shrink:\n",
    "        rgb = pyrDown(large)\n",
    "    else:\n",
    "        rgb = large\n",
    "\n",
    "    scale_width = 100\n",
    "    scale_height = 500\n",
    "    # Apply grayscale to the rgb image\n",
    "    small = cvtColor(rgb, cv2.COLOR_BGR2GRAY)\n",
    "\n",
    "    \n",
    "    if rgb.shape[1] > rgb.shape[0]:\n",
    "        im_height = rgb.shape[1]\n",
    "        im_width = rgb.shape[0]\n",
    "    else:\n",
    "        im_height = rgb.shape[0]\n",
    "        im_width = rgb.shape[1]\n",
    "    \n",
    "\n",
    "        \n",
    "    box_width = int(im_width / scale_width)\n",
    "    box_height = int(im_height / scale_height)\n",
    "\n",
    "\n",
    "    \n",
    "    morph_kernel = getStructuringElement(cv2.MORPH_ELLIPSE, (3, 3))\n",
    "    grad = morphologyEx(small, cv2.MORPH_GRADIENT, morph_kernel)\n",
    "    _, bw = threshold(src=grad, thresh=10, maxval=100, type=cv2.THRESH_BINARY + cv2.THRESH_OTSU)\n",
    "    morph_kernel = getStructuringElement(cv2.MORPH_RECT, (box_width, box_height))\n",
    "    connected = morphologyEx(bw, cv2.MORPH_CLOSE, morph_kernel)\n",
    "    \n",
    "    mask = np.zeros(bw.shape, np.uint8)\n",
    "    print(mask.shape)\n",
    "    \n",
    "    contours, hierarchy = findContours(connected, cv2.RETR_CCOMP, cv2.CHAIN_APPROX_SIMPLE)\n",
    "    \n",
    "    boxes_keys = {}\n",
    "    \n",
    "    for idx in range(0, len(hierarchy[0])):\n",
    "        rect = x, y, rect_width, rect_height = boundingRect(contours[idx])\n",
    "        y_ = int(y / 10) * 10\n",
    "        # Fill the contour\n",
    "        mask = drawContours(mask, contours, idx, (255, 255, 2555), cv2.FILLED)\n",
    "        # Ratio of non-zero pixels in the filled region\n",
    "        r = float(countNonZero(mask)) / (rect_width * rect_height)\n",
    "        if r > 0.45 \\\n",
    "            and rect_height > box_width + 5 \\\n",
    "            and rect_width > box_width + 5 \\\n",
    "            and rect_width < int(rgb.shape[1] / 2) \\\n",
    "            and rect_height < int(rgb.shape[0] / 5):\n",
    "            try:\n",
    "                img = Image.fromarray(rgb[y - 2:y + rect_height + 2, x - 2:x + rect_width + 2], 'RGB')\n",
    "            except ValueError:\n",
    "                img = Image.fromarray(rgb[y:y + rect_height, x:x + rect_width], 'RGB')\n",
    "            boxes_keys[(y_, x, rect_height, rect_width)] = img\n",
    "    num_boxes = len(boxes_keys)\n",
    "    box_lookup = dict(zip(range(0, num_boxes), sorted(list(boxes_keys.keys()))))\n",
    "    X_train = np.zeros((num_boxes, max_slicenum, slice_height, slice_width, 1))\n",
    "    model = load_model('/home/CONCURASP/kumara/udacity_ocr_refactor/model/ocr_extraction_model.h5',custom_objects={'AttentionDecoder':AttentionDecoder})\n",
    "    for l in range(0, num_boxes):\n",
    "        output = np.zeros((max_slicenum, slice_height, slice_width, 1))\n",
    "        img_np = boxes_keys.get(box_lookup.get(l))\n",
    "        img_np_grey = pre_process_real(img_np)\n",
    "        num_slices_ = int(img_np_grey.shape[1] / slice_width)\n",
    "        for k in range(1, num_slices_ + 1):\n",
    "            output[k - 1, :, :, 0] = img_np_grey[:, (k - 1) * slice_width:k * slice_width]\n",
    "            X_train[l, :, :, :, :] = output\n",
    "        pred = model.predict(X_train)\n",
    "        pred_string = pred_string[:pred_string.find(get_end_char(pred_string))]\n",
    "        \n",
    "        print(pred)\n",
    "        print(pred_string)"
   ]
  },
  {
   "cell_type": "code",
   "execution_count": null,
   "metadata": {},
   "outputs": [
    {
     "name": "stdout",
     "output_type": "stream",
     "text": [
      "shrink False\n",
      "(1111, 666)\n",
      "{(750, 181, 28, 78): <PIL.Image.Image image mode=RGB size=82x32 at 0x7F82DEF4DF98>, (750, 83, 23, 76): <PIL.Image.Image image mode=RGB size=80x27 at 0x7F82DEF4DDA0>, (740, 282, 22, 17): <PIL.Image.Image image mode=RGB size=21x26 at 0x7F82DEF4DE80>, (740, 322, 23, 115): <PIL.Image.Image image mode=RGB size=119x27 at 0x7F82DEF82240>, (710, 164, 23, 99): <PIL.Image.Image image mode=RGB size=103x27 at 0x7F82DEF822B0>, (710, 65, 23, 77): <PIL.Image.Image image mode=RGB size=81x27 at 0x7F82DEF82320>, (710, 575, 22, 17): <PIL.Image.Image image mode=RGB size=21x26 at 0x7F82DEF82390>, (710, 612, 23, 37): <PIL.Image.Image image mode=RGB size=41x27 at 0x7F82DEF82400>, (640, 362, 23, 17): <PIL.Image.Image image mode=RGB size=21x27 at 0x7F82DEF82470>, (640, 381, 24, 76): <PIL.Image.Image image mode=RGB size=80x28 at 0x7F82DEF824E0>, (640, 574, 23, 18): <PIL.Image.Image image mode=RGB size=22x27 at 0x7F82DEF82550>, (630, 612, 24, 37): <PIL.Image.Image image mode=RGB size=41x28 at 0x7F82DEF825C0>, (570, 62, 31, 136): <PIL.Image.Image image mode=RGB size=140x35 at 0x7F82DEF82630>, (570, 220, 23, 18): <PIL.Image.Image image mode=RGB size=22x27 at 0x7F82DEF826A0>, (570, 241, 24, 56): <PIL.Image.Image image mode=RGB size=60x28 at 0x7F82DEF82710>, (560, 613, 23, 35): <PIL.Image.Image image mode=RGB size=39x27 at 0x7F82DEF82780>, (560, 574, 23, 16): <PIL.Image.Image image mode=RGB size=20x27 at 0x7F82DEF827F0>, (500, 57, 24, 80): <PIL.Image.Image image mode=RGB size=84x28 at 0x7F82DEF82860>, (490, 398, 23, 18): <PIL.Image.Image image mode=RGB size=22x27 at 0x7F82DEF828D0>, (490, 299, 24, 77): <PIL.Image.Image image mode=RGB size=81x28 at 0x7F82DEF82940>, (490, 439, 24, 12): <PIL.Image.Image image mode=RGB size=16x28 at 0x7F82DEF829B0>, (490, 457, 24, 115): <PIL.Image.Image image mode=RGB size=119x28 at 0x7F82DEF82A20>, (490, 632, 23, 17): <PIL.Image.Image image mode=RGB size=21x27 at 0x7F82DEF82A90>, (490, 575, 24, 51): <PIL.Image.Image image mode=RGB size=55x28 at 0x7F82DEF82B00>, (460, 58, 22, 13): <PIL.Image.Image image mode=RGB size=17x26 at 0x7F82DEF82B70>, (460, 117, 24, 38): <PIL.Image.Image image mode=RGB size=42x28 at 0x7F82DEF82BE0>, (460, 76, 26, 36): <PIL.Image.Image image mode=RGB size=40x30 at 0x7F82DEF82C50>, (460, 238, 23, 18): <PIL.Image.Image image mode=RGB size=22x27 at 0x7F82DEF82CC0>, (460, 178, 24, 54): <PIL.Image.Image image mode=RGB size=58x28 at 0x7F82DEF82D30>, (460, 320, 23, 12): <PIL.Image.Image image mode=RGB size=16x27 at 0x7F82DEF82DA0>, (460, 300, 24, 12): <PIL.Image.Image image mode=RGB size=16x28 at 0x7F82DEF82E10>, (460, 416, 23, 39): <PIL.Image.Image image mode=RGB size=43x27 at 0x7F82DEF82E80>, (460, 357, 24, 38): <PIL.Image.Image image mode=RGB size=42x28 at 0x7F82DEF82EF0>, (460, 573, 24, 37): <PIL.Image.Image image mode=RGB size=41x28 at 0x7F82DEF82F60>, (450, 515, 25, 57): <PIL.Image.Image image mode=RGB size=61x29 at 0x7F82DEF82FD0>, (350, 196, 24, 146): <PIL.Image.Image image mode=RGB size=150x28 at 0x7F82DEF60080>, (350, 273, 16, 12): <PIL.Image.Image image mode=RGB size=16x20 at 0x7F82DEF600F0>, (350, 313, 21, 26): <PIL.Image.Image image mode=RGB size=30x25 at 0x7F82DEF60160>, (350, 460, 24, 21): <PIL.Image.Image image mode=RGB size=25x28 at 0x7F82DEF601D0>, (350, 383, 24, 70): <PIL.Image.Image image mode=RGB size=74x28 at 0x7F82DEF60240>, (270, 573, 23, 37): <PIL.Image.Image image mode=RGB size=41x27 at 0x7F82DEF602B0>, (270, 534, 23, 37): <PIL.Image.Image image mode=RGB size=41x27 at 0x7F82DEF60320>, (270, 294, 24, 119): <PIL.Image.Image image mode=RGB size=123x28 at 0x7F82DEF60390>, (270, 72, 24, 58): <PIL.Image.Image image mode=RGB size=62x28 at 0x7F82DEF60400>, (270, 53, 24, 12): <PIL.Image.Image image mode=RGB size=16x28 at 0x7F82DEF60470>, (270, 435, 33, 77): <PIL.Image.Image image mode=RGB size=81x37 at 0x7F82DEF604E0>, (280, 445, 15, 17): <PIL.Image.Image image mode=RGB size=21x19 at 0x7F82DEF60550>, (270, 151, 25, 121): <PIL.Image.Image image mode=RGB size=125x29 at 0x7F82DEF605C0>, (240, 374, 25, 138): <PIL.Image.Image image mode=RGB size=142x29 at 0x7F82DEF60630>, (240, 294, 25, 58): <PIL.Image.Image image mode=RGB size=62x29 at 0x7F82DEF606A0>, (240, 192, 18, 79): <PIL.Image.Image image mode=RGB size=83x22 at 0x7F82DEF60710>}\n",
      "inputs shape: (?, 40, 512)\n"
     ]
    }
   ],
   "source": [
    "from io import BytesIO\n",
    "def pre_process_real(img_):\n",
    "        \"\"\"\n",
    "        Utility function to re-shape and pre-process text \n",
    "        boxes that can be fed into CRNN model\n",
    "        Input\n",
    "        -----\n",
    "        - img: np-array image of shape (H, W, C)\n",
    "        Returns\n",
    "        -------\n",
    "        - output: np-array image of shape (H, W)\n",
    "        \"\"\"\n",
    "\n",
    "        # Convert to the same height and adjust width accordingly\n",
    "        a, b = img_.size\n",
    "        scale_factor = int(a / float(b))\n",
    "        if scale_factor < 1:\n",
    "            scale_factor = 1\n",
    "        total_width = scale_factor * 40\n",
    "        if total_width > 480:\n",
    "            total_width = 480\n",
    "        new_im = img_.resize((total_width, slice_height), Image.ANTIALIAS)\n",
    "\n",
    "        # Convert it back to numpy array\n",
    "        img_np = np.asarray(new_im)\n",
    "\n",
    "        # Greyscale the image\n",
    "        img_np_grey = rgb2gray(img_np)\n",
    "\n",
    "        return img_np_grey\n",
    "\n",
    "def predict(img):\n",
    "        \"\"\"\n",
    "        Model prediction function to get ocr from an image\n",
    "        -----\n",
    "        - img: bytes of input file\n",
    "        Returns\n",
    "        -------\n",
    "        - output: dictionary\n",
    "        \"\"\"\n",
    "\n",
    "        # Read the image\n",
    "        img = Image.open(BytesIO(img))\n",
    "        try:\n",
    "            img = np.array(img)[:, :, 0:3]\n",
    "        except IndexError:\n",
    "            return [{'value': 'Image quality is too low, please submit at least 500 by 500 rgb ones ', 'score': 0.0}]\n",
    "        if float(img.size / 3) < 500 * 500:\n",
    "            return [{'value': 'Image quality is too low, please submit at least 500 by 500 rgb ones ', 'score': 0.0}]\n",
    "\n",
    "        # Get image text boxes from left to right, top to bottom\n",
    "        # boxes_keys: {(x,y,rect_height, rect_width): numpy_array image boxes}\n",
    "        boxes_keys = get_text_boxes(img)\n",
    "\n",
    "\n",
    "img = '/home/CONCURASP/kumara/udacity_ocr_refactor/src/5AA93EB6ABB138AE87010F44D68561DF.jpg'\n",
    "with open(img, \"rb\") as imageFile:\n",
    "    f = imageFile.read()\n",
    "    #b = bytearray(f)\n",
    "predict(f)"
   ]
  },
  {
   "cell_type": "code",
   "execution_count": 4,
   "metadata": {},
   "outputs": [
    {
     "name": "stdout",
     "output_type": "stream",
     "text": [
      "inputs shape: (?, 40, 512)\n",
      "_________________________________________________________________\n",
      "Layer (type)                 Output Shape              Param #   \n",
      "=================================================================\n",
      "input_1 (InputLayer)         (None, 24, 40, 20, 1)     0         \n",
      "_________________________________________________________________\n",
      "time_distributed_1 (TimeDist (None, 24, 40, 20, 64)    640       \n",
      "_________________________________________________________________\n",
      "time_distributed_2 (TimeDist (None, 24, 20, 10, 64)    0         \n",
      "_________________________________________________________________\n",
      "time_distributed_3 (TimeDist (None, 24, 20, 10, 128)   73856     \n",
      "_________________________________________________________________\n",
      "time_distributed_4 (TimeDist (None, 24, 10, 5, 128)    0         \n",
      "_________________________________________________________________\n",
      "time_distributed_5 (TimeDist (None, 24, 10, 5, 256)    295168    \n",
      "_________________________________________________________________\n",
      "batch_normalization_1 (Batch (None, 24, 10, 5, 256)    1024      \n",
      "_________________________________________________________________\n",
      "time_distributed_6 (TimeDist (None, 24, 10, 5, 256)    590080    \n",
      "_________________________________________________________________\n",
      "time_distributed_7 (TimeDist (None, 24, 5, 2, 256)     0         \n",
      "_________________________________________________________________\n",
      "time_distributed_8 (TimeDist (None, 24, 5, 2, 512)     1180160   \n",
      "_________________________________________________________________\n",
      "batch_normalization_2 (Batch (None, 24, 5, 2, 512)     2048      \n",
      "_________________________________________________________________\n",
      "time_distributed_9 (TimeDist (None, 24, 4, 1, 512)     1049088   \n",
      "_________________________________________________________________\n",
      "time_distributed_10 (TimeDis (None, 24, 2, 1, 512)     0         \n",
      "_________________________________________________________________\n",
      "time_distributed_11 (TimeDis (None, 24, 1024)          0         \n",
      "_________________________________________________________________\n",
      "dropout_1 (Dropout)          (None, 24, 1024)          0         \n",
      "_________________________________________________________________\n",
      "bidirectional_1 (Bidirection (None, 512)               1967616   \n",
      "_________________________________________________________________\n",
      "dropout_2 (Dropout)          (None, 512)               0         \n",
      "_________________________________________________________________\n",
      "repeat_vector_1 (RepeatVecto (None, 40, 512)           0         \n",
      "_________________________________________________________________\n",
      "AttentionDecoder (AttentionD (None, 40, 97)            1077282   \n",
      "=================================================================\n",
      "Total params: 6,236,962\n",
      "Trainable params: 6,235,426\n",
      "Non-trainable params: 1,536\n",
      "_________________________________________________________________\n"
     ]
    }
   ],
   "source": [
    "from keras.models import load_model\n",
    "model_file = '/home/CONCURASP/kumara/udacity_ocr_refactor/model/iteration_1/ocr_extraction_model.h5'\n",
    "model = load_model(model_file,custom_objects={'AttentionDecoder': AttentionDecoder})\n",
    "model.summary()"
   ]
  },
  {
   "cell_type": "code",
   "execution_count": null,
   "metadata": {},
   "outputs": [],
   "source": []
  }
 ],
 "metadata": {
  "kernelspec": {
   "display_name": "Python 3",
   "language": "python",
   "name": "python3"
  },
  "language_info": {
   "codemirror_mode": {
    "name": "ipython",
    "version": 3
   },
   "file_extension": ".py",
   "mimetype": "text/x-python",
   "name": "python",
   "nbconvert_exporter": "python",
   "pygments_lexer": "ipython3",
   "version": "3.6.5"
  }
 },
 "nbformat": 4,
 "nbformat_minor": 2
}
